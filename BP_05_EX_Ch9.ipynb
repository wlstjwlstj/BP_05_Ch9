{
  "nbformat": 4,
  "nbformat_minor": 0,
  "metadata": {
    "colab": {
      "provenance": [],
      "authorship_tag": "ABX9TyPF5wnWrXOcMFWddUo6mK40",
      "include_colab_link": true
    },
    "kernelspec": {
      "name": "python3",
      "display_name": "Python 3"
    },
    "language_info": {
      "name": "python"
    }
  },
  "cells": [
    {
      "cell_type": "markdown",
      "metadata": {
        "id": "view-in-github",
        "colab_type": "text"
      },
      "source": [
        "<a href=\"https://colab.research.google.com/github/wlstjwlstj/BP_05_Ch9/blob/main/BP_05_EX_Ch9.ipynb\" target=\"_parent\"><img src=\"https://colab.research.google.com/assets/colab-badge.svg\" alt=\"Open In Colab\"/></a>"
      ]
    },
    {
      "cell_type": "markdown",
      "source": [
        "1. 사용자로부터 5개의 숫자를 읽어서 리스트에 저장하고 숫자들의 평균을 계산하여 출력하는 프로그램을 작성해보자."
      ],
      "metadata": {
        "id": "sNr54rJSMmQg"
      }
    },
    {
      "cell_type": "code",
      "source": [
        "list=[]\n",
        "sum=0\n",
        "for i in range(5):\n",
        "  num=int(input(\"정수를 입력하세요: \"))\n",
        "  list.append(num)\n",
        "for j in range(5):\n",
        "  sum=sum+list[j]\n",
        "print(sum/len(list))"
      ],
      "metadata": {
        "colab": {
          "base_uri": "https://localhost:8080/"
        },
        "id": "o4xz4aY_M7qs",
        "outputId": "00efea03-9e2b-42e2-9427-cc9ce33613a9"
      },
      "execution_count": null,
      "outputs": [
        {
          "output_type": "stream",
          "name": "stdout",
          "text": [
            "정수를 입력하세요: 10\n",
            "정수를 입력하세요: 20\n",
            "정수를 입력하세요: 30\n",
            "정수를 입력하세요: 40\n",
            "정수를 입력하세요: 50\n",
            "30.0\n"
          ]
        }
      ]
    },
    {
      "cell_type": "markdown",
      "source": [
        "2. 주사위를 더져서 나오는 값들의 빈도를 계산하는 프로그램을 작성해보자. 즉 1,2,3,4,5,6의 값이 각각 몇번이나 나오는지를 계산한다. 난수 발생 함수와 리스트를 사용해보자."
      ],
      "metadata": {
        "id": "-eM8h92ZM8Bn"
      }
    },
    {
      "cell_type": "code",
      "source": [
        "import random\n",
        "counters=[0,0,0,0,0,0]\n",
        "for i in range(1000):\n",
        "  value=random.randint(0,5)\n",
        "  counters[value]=counters[value]+1\n",
        "for j in range(6):\n",
        "  print(\"주사위가\", j+1, \"인 경우는\", counters[j])"
      ],
      "metadata": {
        "colab": {
          "base_uri": "https://localhost:8080/"
        },
        "id": "4cMer7WfNGKQ",
        "outputId": "adb48ba3-46ac-4d20-f8ad-a6a9779c091f"
      },
      "execution_count": null,
      "outputs": [
        {
          "output_type": "stream",
          "name": "stdout",
          "text": [
            "주사위가 1 인 경우는 154\n",
            "주사위가 2 인 경우는 173\n",
            "주사위가 3 인 경우는 184\n",
            "주사위가 4 인 경우는 134\n",
            "주사위가 5 인 경우는 190\n",
            "주사위가 6 인 경우는 165\n"
          ]
        }
      ]
    },
    {
      "cell_type": "markdown",
      "source": [
        "3.딕셔너리를 사용하여서 친구들의 이름과 전화번호를 저장해보자. 사용자로부터 친구들의 이름과 전화번호를 입력받고 딕셔너리에 저장한다. 이름을 입력하지 않고 엔터키를 치면 검색모드가 된다. 검색 모드에서는 친구들의 이름으로 전화번호를 검색할 수 있도록 한다."
      ],
      "metadata": {
        "id": "fDkHqlJ6NGZH"
      }
    },
    {
      "cell_type": "code",
      "source": [
        "contacts={}\n",
        "while True:\n",
        "  name=input(\"(입력)이름을 입력하시오: \")\n",
        "  if not name:\n",
        "    who=input(\"(검색)이름을 입력하시오: \")\n",
        "    print(\"전화번호는\", contacts[who], \"입니다.\")\n",
        "  tel=input(\"전화번호를 입력하시오: \")\n",
        "  contacts[name]=tel"
      ],
      "metadata": {
        "colab": {
          "base_uri": "https://localhost:8080/"
        },
        "id": "KyGrQYq9Ndrg",
        "outputId": "23ed5092-b6cd-49a5-a453-c9f8a835efbe"
      },
      "execution_count": null,
      "outputs": [
        {
          "name": "stdout",
          "output_type": "stream",
          "text": [
            "(입력)이름을 입력하시오: 진서\n",
            "전화번호를 입력하시오: 010-0000-0000\n",
            "(입력)이름을 입력하시오: \n",
            "(검색)이름을 입력하시오: 진서\n",
            "전화번호는 010-0000-0000 입니다.\n",
            "전화번호를 입력하시오: \n",
            "(입력)이름을 입력하시오: \n"
          ]
        }
      ]
    },
    {
      "cell_type": "markdown",
      "source": [
        "4. 색상을 리스트에 저장한다. 리스트에 저장된 색상을 하나씩 꺼내어 거북이의 색상으로 설정하면서 속이 채워진 사각형을 그리는 프로그램을 작성해보자."
      ],
      "metadata": {
        "id": "cudSiFQiNd2O"
      }
    },
    {
      "cell_type": "code",
      "source": [
        "import turtle\n",
        "t=turtle.Turtle()\n",
        "def draw(x,y,c):\n",
        "    for c in [\"red\", \"blue\", \"green\", \"yellow\"]:\n",
        "        t.goto(x,y)\n",
        "        t.fillcolor(c)\n",
        "        t.fd(100)\n",
        "        t.rt(90)\n",
        "        t.fd(100)\n",
        "        t.rt(90)\n",
        "        t.fd(100)\n",
        "        t.rt(90)\n",
        "        t.fd(100)\n",
        "        t.end_fill()\n",
        "draw(10,10,0)"
      ],
      "metadata": {
        "id": "tREhcH7UNmpI"
      },
      "execution_count": null,
      "outputs": []
    },
    {
      "cell_type": "markdown",
      "source": [
        "5. 색상을 리스트에 저장한다. 리스트에 저장된 색상을 하나씩 꺼내어 거북이의 색상으로 설정하면서 속이 채워진 다각형을 그리는 프로그램을 작성해보자."
      ],
      "metadata": {
        "id": "dBpl8-R1jxSc"
      }
    },
    {
      "cell_type": "code",
      "source": [
        "import turtle\n",
        "import random\n",
        "t=turtle.Turtle()\n",
        "\n",
        "k=int(input(\"몇각형을 만드시겠습니까?\"))\n",
        "l=int(input(\"길이를 몇으로 하시겠습니까?\"))\n",
        "s=int(input(\"각도는 몇도로 하시겠습니까?\"))\n",
        "x=0\n",
        "y=0\n",
        "c=random.randint(0,3)\n",
        "def draw(k,c,l,s,x,y):\n",
        "    for c in [\"red\", \"blue\", \"green\", \"yellow\"]:\n",
        "        x=random.randint(1,200)\n",
        "        y=random.randint(1,200)\n",
        "        t.penup()\n",
        "        t.goto(x,y)\n",
        "        t.pendown()\n",
        "        t.fillcolor(c)\n",
        "        t.begin_fill()\n",
        "        for i in range(k):\n",
        "            t.fd(l)\n",
        "            t.rt(s)\n",
        "        t.end_fill()\n",
        "draw(k,c,l,s,x,y)"
      ],
      "metadata": {
        "id": "0DJIi0OakEH5"
      },
      "execution_count": null,
      "outputs": []
    },
    {
      "cell_type": "markdown",
      "source": [
        "6. 색상을 리스트에 저장한다. 리스트에 저장된 색상을 하나씩 꺼내어 거북이의 색상으로 설정하면서 속이 채워진 별을 랜덤한 위치에 그리는 프로그램을 작성해보자."
      ],
      "metadata": {
        "id": "bkLssk9tkETd"
      }
    },
    {
      "cell_type": "code",
      "source": [
        "import turtle\n",
        "import random\n",
        "t=turtle.Turtle()\n",
        "\n",
        "c=random.randint(0,3)\n",
        "def star(color,length,x,y):\n",
        "        t.penup()\n",
        "        t.goto(x,y)\n",
        "        t.pendown()\n",
        "        t.fillcolor(color)\n",
        "        t.begin_fill()\n",
        "        for i in range(5):\n",
        "            \n",
        "            t.fd(length)\n",
        "            t.rt(144)\n",
        "        t.end_fill()\n",
        "for i in range(10):\n",
        "        for color in [\"red\", \"blue\", \"green\", \"yellow\"]:\n",
        "            x=random.randint(1,200)\n",
        "            y=random.randint(1,200)\n",
        "            lenght=random.randint(50,200)\n",
        "            star(color,lenght,x,y)"
      ],
      "metadata": {
        "id": "kNXefCe7kPD-"
      },
      "execution_count": null,
      "outputs": []
    },
    {
      "cell_type": "markdown",
      "source": [
        "7. 인터넷 도메인의 약자와 해당되는 국가를 딕셔너리에 저장해보자. 예를 들어서 \"Kr\"은 대한민국으로 저장되어야 한다. 딕셔너리를 순화하면서 모든 키와 값을 출력하는 프로그램을 작성해보자."
      ],
      "metadata": {
        "id": "yS1ItvrXkPNG"
      }
    },
    {
      "cell_type": "code",
      "source": [
        "domain={\"kr\":\"대한민국\", \"sk\":\"슬로바키아\", \"no\":\"노르웨이\", \"us\": \"미국\", \"jp\":\"일본\", \"de\":\"독일\"}\n",
        "for k,v in domain.items():\n",
        "  print(k,\":\",v)"
      ],
      "metadata": {
        "id": "p4jutoMVkba2"
      },
      "execution_count": null,
      "outputs": []
    },
    {
      "cell_type": "markdown",
      "source": [
        "8. 딕셔너리에 문제와 정답을 저장하고 하나씩 꺼내어 사용자에게 제시하는 프로그램을 작성해보자. 사용자는 문자열로 답해야 한다. 번호로 답할 수는 없다."
      ],
      "metadata": {
        "id": "oHR9QRfKkbkz"
      }
    },
    {
      "cell_type": "code",
      "source": [
        "problems={\"파이썬\":\"최근에 가장 떠오르는 프로그래밍 언어\", \"변수\": \"데이터를 저장하는 메모리 공간\", \n",
        "          \"함수\": \"작업을 수행하는 문장들의 집합에 이름을 붙인 것, \"리스트\": \"서로 관련이 없는 항목들의 모임\"}\n",
        "for k,v in problems, items():\n",
        "  print(v)\n",
        "  print(\"다음은 어떤 단어에 대한 설명일까요?\")\n",
        "  print(\"(1)파이썬 (2)함수 (3)리스트 (4)변수\")\n",
        "  ans=input()\n",
        "  if ans==k:\n",
        "    print(\"정답입니다!\")\n",
        "  else:\n",
        "    print(\"오답입니다.\")"
      ],
      "metadata": {
        "id": "kjzUHPn1kkN6"
      },
      "execution_count": null,
      "outputs": []
    }
  ]
}