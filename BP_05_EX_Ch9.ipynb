{
  "nbformat": 4,
  "nbformat_minor": 0,
  "metadata": {
    "colab": {
      "provenance": [],
      "authorship_tag": "ABX9TyP55XHvFR5kwSG/82qai+YO",
      "include_colab_link": true
    },
    "kernelspec": {
      "name": "python3",
      "display_name": "Python 3"
    },
    "language_info": {
      "name": "python"
    }
  },
  "cells": [
    {
      "cell_type": "markdown",
      "metadata": {
        "id": "view-in-github",
        "colab_type": "text"
      },
      "source": [
        "<a href=\"https://colab.research.google.com/github/wlstjwlstj/BP_05_Ch9/blob/main/BP_05_EX_Ch9.ipynb\" target=\"_parent\"><img src=\"https://colab.research.google.com/assets/colab-badge.svg\" alt=\"Open In Colab\"/></a>"
      ]
    },
    {
      "cell_type": "markdown",
      "source": [
        "1. 사용자로부터 5개의 숫자를 읽어서 리스트에 저장하고 숫자들의 평균을 계산하여 출력하는 프로그램을 작성해보자."
      ],
      "metadata": {
        "id": "sNr54rJSMmQg"
      }
    },
    {
      "cell_type": "code",
      "source": [
        "list=[]\n",
        "sum=0\n",
        "for i in range(5):\n",
        "  num=int(input(\"정수를 입력하세요: \"))\n",
        "  list.append(num)\n",
        "for j in range(5):\n",
        "  sum=sum+list[j]\n",
        "print(sum/len(list))"
      ],
      "metadata": {
        "colab": {
          "base_uri": "https://localhost:8080/"
        },
        "id": "o4xz4aY_M7qs",
        "outputId": "00efea03-9e2b-42e2-9427-cc9ce33613a9"
      },
      "execution_count": 3,
      "outputs": [
        {
          "output_type": "stream",
          "name": "stdout",
          "text": [
            "정수를 입력하세요: 10\n",
            "정수를 입력하세요: 20\n",
            "정수를 입력하세요: 30\n",
            "정수를 입력하세요: 40\n",
            "정수를 입력하세요: 50\n",
            "30.0\n"
          ]
        }
      ]
    },
    {
      "cell_type": "markdown",
      "source": [
        "2. 주사위를 더져서 나오는 값들의 빈도를 계산하는 프로그램을 작성해보자. 즉 1,2,3,4,5,6의 값이 각각 몇번이나 나오는지를 계산한다. 난수 발생 함수와 리스트를 사용해보자."
      ],
      "metadata": {
        "id": "-eM8h92ZM8Bn"
      }
    },
    {
      "cell_type": "code",
      "source": [
        "import random\n",
        "counters=[0,0,0,0,0,0]\n",
        "for i in range(1000):\n",
        "  value=random.randint(0,5)\n",
        "  counters[value]=counters[value]+1\n",
        "for j in range(6):\n",
        "  print(\"주사위가\", j+1, \"인 경우는\", counters[j])"
      ],
      "metadata": {
        "colab": {
          "base_uri": "https://localhost:8080/"
        },
        "id": "4cMer7WfNGKQ",
        "outputId": "adb48ba3-46ac-4d20-f8ad-a6a9779c091f"
      },
      "execution_count": 4,
      "outputs": [
        {
          "output_type": "stream",
          "name": "stdout",
          "text": [
            "주사위가 1 인 경우는 154\n",
            "주사위가 2 인 경우는 173\n",
            "주사위가 3 인 경우는 184\n",
            "주사위가 4 인 경우는 134\n",
            "주사위가 5 인 경우는 190\n",
            "주사위가 6 인 경우는 165\n"
          ]
        }
      ]
    },
    {
      "cell_type": "markdown",
      "source": [
        "3.딕셔너리를 사용하여서 친구들의 이름과 전화번호를 저장해보자. 사용자로부터 친구들의 이름과 전화번호를 입력받고 딕셔너리에 저장한다. 이름을 입력하지 않고 엔터키를 치면 검색모드가 된다. 검색 모드에서는 친구들의 이름으로 전화번호를 검색할 수 있도록 한다."
      ],
      "metadata": {
        "id": "fDkHqlJ6NGZH"
      }
    },
    {
      "cell_type": "code",
      "source": [
        "contacts={}\n",
        "while True:\n",
        "  name=input(\"(입력모드)이름을 입력하시오: \")\n",
        "  if not name:\n",
        "    break;\n",
        "  tel=input(\"전화번호를 입력하시오: \")\n",
        "  contacts[name]=tel\n",
        "while True:\n",
        "  name2=input(\"(검색모드)이름을 입력하시오: \")\n",
        "  print(name2,\"의 전화번호는\", contacts[name2],\"입니다.\")\n",
        "  if not name2:\n",
        "    break;"
      ],
      "metadata": {
        "colab": {
          "base_uri": "https://localhost:8080/"
        },
        "id": "KyGrQYq9Ndrg",
        "outputId": "a300dfae-677e-4480-8cf0-a5c9de068d37"
      },
      "execution_count": null,
      "outputs": [
        {
          "name": "stdout",
          "output_type": "stream",
          "text": [
            "(입력모드)이름을 입력하시오: 진서\n",
            "전화번호를 입력하시오: 010-0000-0000\n",
            "(입력모드)이름을 입력하시오: 진수\n",
            "전화번호를 입력하시오: 010\n"
          ]
        }
      ]
    },
    {
      "cell_type": "markdown",
      "source": [
        "4. 색상을 리스트에 저장한다. 리스트에 저장된 색상을 하나씩 꺼내어 거북이의 색상으로 설정하면서 속이 채워진 사각형을 그리는 프로그램을 작성해보자."
      ],
      "metadata": {
        "id": "cudSiFQiNd2O"
      }
    },
    {
      "cell_type": "code",
      "source": [],
      "metadata": {
        "id": "tREhcH7UNmpI"
      },
      "execution_count": null,
      "outputs": []
    }
  ]
}